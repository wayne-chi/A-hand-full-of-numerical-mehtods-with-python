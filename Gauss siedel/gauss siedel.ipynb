{
 "cells": [
  {
   "cell_type": "code",
   "execution_count": 1,
   "metadata": {},
   "outputs": [],
   "source": [
    "import math\n",
    "import numpy as np"
   ]
  },
  {
   "cell_type": "markdown",
   "metadata": {},
   "source": [
    "Code to solve a system of three equations."
   ]
  },
  {
   "cell_type": "code",
   "execution_count": 5,
   "metadata": {},
   "outputs": [
    {
     "name": "stdout",
     "output_type": "stream",
     "text": [
      "given the equation ax+by+cz+d\n",
      "enter the value of a1: 3\n",
      "enter the value of b1: 1\n",
      "enter the value of c1: -2\n",
      "enter the value of d1: -3\n",
      "enter the value of a2: 1\n",
      "enter the value of b2: -6\n",
      "enter the value of c2: 2\n",
      "enter the value of d2: 8\n",
      "enter the value of a3: 1\n",
      "enter the value of b3: 3\n",
      "enter the value of c3: -6\n",
      "enter the value of d3: 4\n"
     ]
    }
   ],
   "source": [
    "# take in data\n",
    "n = 3\n",
    "\n",
    "mat_coeff = [[] for i in range(n)]\n",
    "const=['a','b','c','d','e','f','g','h','i','j','k','l','m','n','o','p','q','r','s','t','u','v','w','x','y','z']\n",
    "print('given the equation ax+by+cz+d')\n",
    "for i in range(n):\n",
    "    for j in range(n+1):\n",
    "        dum = input(f'enter the value of {const[j]}{i+1}: ')\n",
    "        if dum == None: dum = 0\n",
    "        mat_coeff[i].append(float(dum))\n",
    "#     print ('done',mat_coeff)\n",
    "        \n",
    "\n"
   ]
  },
  {
   "cell_type": "markdown",
   "metadata": {},
   "source": [
    "\n",
    "## Codes\n",
    "##"
   ]
  },
  {
   "cell_type": "code",
   "execution_count": 32,
   "metadata": {},
   "outputs": [],
   "source": [
    "init_guess = [0,0,0]\n",
    "max_iter =25\n",
    "tolerance = 10**-16\n",
    "answers = []\n",
    "for i in range(n):\n",
    "    answers.append([init_guess[i],0])\n",
    "                   "
   ]
  },
  {
   "cell_type": "code",
   "execution_count": 33,
   "metadata": {},
   "outputs": [
    {
     "name": "stdout",
     "output_type": "stream",
     "text": [
      "[[-1.625, -1.625], [-2.3000000000000003, -2.3000000000000003], [-2.0875, -2.0875]] 22\n"
     ]
    }
   ],
   "source": [
    "for _ in range(max_iter):\n",
    "    \n",
    "    tolerance_flag = abs(answers[0][0] -answers[0][1]) < tolerance\n",
    "    \n",
    "    for i in range(n):\n",
    "        ans =answers[i]\n",
    "        res = mat_coeff[i][n]\n",
    "        for j in range(n):\n",
    "            if j==i:\n",
    "                pass\n",
    "            else:\n",
    "                res -= mat_coeff[i][j]*answers[j][0]\n",
    "\n",
    "        ans[1] = res/mat_coeff[i][i]\n",
    "        tolerance_flag = tolerance_flag and (abs(ans[0]-ans[1]) < tolerance) \n",
    "        ans[0]=ans[1]\n",
    "    if tolerance_flag:break\n",
    "print(answers,_)"
   ]
  },
  {
   "cell_type": "code",
   "execution_count": 28,
   "metadata": {},
   "outputs": [
    {
     "data": {
      "text/plain": [
       "12"
      ]
     },
     "execution_count": 28,
     "metadata": {},
     "output_type": "execute_result"
    }
   ],
   "source": [
    "_"
   ]
  },
  {
   "cell_type": "code",
   "execution_count": 17,
   "metadata": {},
   "outputs": [
    {
     "data": {
      "text/plain": [
       "[[3.0, 1.0, -2.0, -3.0], [1.0, -6.0, 2.0, 8.0], [1.0, 3.0, -6.0, 4.0]]"
      ]
     },
     "execution_count": 17,
     "metadata": {},
     "output_type": "execute_result"
    }
   ],
   "source": [
    "mat_coeff\n"
   ]
  },
  {
   "cell_type": "code",
   "execution_count": 20,
   "metadata": {},
   "outputs": [
    {
     "data": {
      "text/plain": [
       "[[3.0, 1.0, -2.0, -3.0, 1.0, -6.0, 2.0, 8.0, 1.0, 3.0, -6.0, 4.0],\n",
       " [3.0, 1.0, -2.0, -3.0, 1.0, -6.0, 2.0, 8.0, 1.0, 3.0, -6.0, 4.0],\n",
       " [3.0, 1.0, -2.0, -3.0, 1.0, -6.0, 2.0, 8.0, 1.0, 3.0, -6.0, 4.0]]"
      ]
     },
     "execution_count": 20,
     "metadata": {},
     "output_type": "execute_result"
    }
   ],
   "source": [
    "mat_coeff"
   ]
  },
  {
   "cell_type": "code",
   "execution_count": 22,
   "metadata": {},
   "outputs": [],
   "source": [
    "b[1]=1"
   ]
  },
  {
   "cell_type": "code",
   "execution_count": 23,
   "metadata": {},
   "outputs": [
    {
     "data": {
      "text/plain": [
       "[[], 1, [], []]"
      ]
     },
     "execution_count": 23,
     "metadata": {},
     "output_type": "execute_result"
    }
   ],
   "source": [
    "b"
   ]
  },
  {
   "cell_type": "code",
   "execution_count": null,
   "metadata": {},
   "outputs": [],
   "source": []
  }
 ],
 "metadata": {
  "kernelspec": {
   "display_name": "Python 3",
   "language": "python",
   "name": "python3"
  },
  "language_info": {
   "codemirror_mode": {
    "name": "ipython",
    "version": 3
   },
   "file_extension": ".py",
   "mimetype": "text/x-python",
   "name": "python",
   "nbconvert_exporter": "python",
   "pygments_lexer": "ipython3",
   "version": "3.7.4"
  }
 },
 "nbformat": 4,
 "nbformat_minor": 2
}
