{
 "cells": [
  {
   "cell_type": "markdown",
   "metadata": {},
   "source": [
    "## Bisection Method  \n",
    "\n",
    "to solve $x^2 -4 =0$ \n",
    "- put in arguments like verbose to see how it is operating\n",
    "- epsilon to set the the tolerance for result\n",
    "- n_iter to set the number of iterations   \n"
   ]
  },
  {
   "cell_type": "code",
   "execution_count": 1,
   "metadata": {},
   "outputs": [],
   "source": [
    "def eqn(x):\n",
    "    return  x**2-4\n",
    "\n",
    "def solve_bisect(x1,x2,eqn = eqn,n_iter = 1000, epsilon = 10**(-50),verbose = False):\n",
    "    \n",
    "    if n_iter == None: n_iter = 1000\n",
    "    if epsilon  == None: epsilon = 10**(-50)\n",
    "    \n",
    "    n_i = 0\n",
    "    x = [x1,x2]\n",
    "    x = [x1,x2]\n",
    "    if verbose:\n",
    "        print('x1\\txmid\\tx2\\t\\ts1\\tsmid\\ts2\\n')\n",
    "    while (abs(abs(x[0])-abs(x[1])) > epsilon) or n_i >= n_iter :\n",
    "        n_i += 1\n",
    "        s1 = eqn(x[0])\n",
    "        s2 = eqn(x[1])\n",
    "        if s1 == 0: return [x1,x1]\n",
    "        if s2 == 0: return [x2,x2]\n",
    "        xmid = (x[0]+x[1])/2\n",
    "        smid = eqn(xmid)\n",
    "        if verbose:\n",
    "            print('{}\\t{}\\t{}\\t\\t{}\\t{}\\t{}\\n'.format(x[0],xmid,x[1],s1,smid,s2))\n",
    "        \n",
    "        if s1*s2 >0 :\n",
    "            print(\"no solution or multiple solution within the bound\")\n",
    "            return None\n",
    "        for i,a in enumerate(x):\n",
    "            s = eqn(x[i])\n",
    "            if smid == 0:\n",
    "                return [xmid,xmid]\n",
    "            if abs(s)/s == abs(smid)/smid :\n",
    "                x[i]  = xmid\n",
    "     \n",
    "    if verbose:\n",
    "        print('it took {} interations to arrive at the answer'.format(n_i))\n",
    "        print('final result is {}'.format(xii))\n",
    "    \n",
    "    \n",
    "    return x\n",
    "        \n",
    "                \n",
    "    \n",
    "def type_eqn(x):\n",
    "    return eval(x)"
   ]
  },
  {
   "cell_type": "code",
   "execution_count": 2,
   "metadata": {},
   "outputs": [
    {
     "name": "stdout",
     "output_type": "stream",
     "text": [
      "x1\txmid\tx2\t\ts1\tsmid\ts2\n",
      "\n",
      "1\t5.0\t9\t\t-3\t21.0\t77\n",
      "\n",
      "1\t3.0\t5.0\t\t-3\t5.0\t21.0\n",
      "\n",
      "1\t2.0\t3.0\t\t-3\t0.0\t5.0\n",
      "\n"
     ]
    },
    {
     "data": {
      "text/plain": [
       "[2.0, 2.0]"
      ]
     },
     "execution_count": 2,
     "metadata": {},
     "output_type": "execute_result"
    }
   ],
   "source": [
    "solve_bisect(1,9,eqn = eqn,verbose =True)"
   ]
  },
  {
   "cell_type": "code",
   "execution_count": 8,
   "metadata": {},
   "outputs": [
    {
     "data": {
      "text/plain": [
       "[2.0, 2.0]"
      ]
     },
     "execution_count": 8,
     "metadata": {},
     "output_type": "execute_result"
    }
   ],
   "source": [
    "solve_bisect(1,9,eqn = eqn,verbose =False)"
   ]
  },
  {
   "cell_type": "markdown",
   "metadata": {},
   "source": [
    "## NEWTON RAPHSON\n",
    "\n",
    "- similar to the bisection but you enter two eqns\n",
    "- one for the equation of the function and the other for the eqn of the differentaited function\n",
    "- the default equation is  x^2-4 = 0 and 2x\n",
    "- for ease i have also included a function at the base that returns a function i.e it differentiates the function and return \\\n",
    "a function that can compute the differentiaiton of the given function\n"
   ]
  },
  {
   "cell_type": "code",
   "execution_count": 7,
   "metadata": {},
   "outputs": [
    {
     "data": {
      "text/plain": [
       "2.0"
      ]
     },
     "execution_count": 7,
     "metadata": {},
     "output_type": "execute_result"
    }
   ],
   "source": [
    "        \n",
    "        \n",
    "def eqn2(x):\n",
    "    return x**2 -4\n",
    "def diff_eqn(x):\n",
    "    return 2*x\n",
    "\n",
    "\n",
    "def newton_raphson(xi,eqn = eqn2,diff_eqn=diff_eqn,n_iter = 100, epsilon = 10**(-25), verbose = False):\n",
    "    xii= xi   # this will later be updated \n",
    "    xi = xii -2 # this is just to create a difference between the former and updated x values\n",
    "    n_it = 0\n",
    "    if verbose :data = [xi]\n",
    "\n",
    "   \n",
    "    while (abs(xii - xi) > epsilon) and (n_it<n_iter)  :\n",
    "        xi = xii\n",
    "        n_it += 1\n",
    "        xii = xi - eqn(xi)/diff_eqn(xii) \n",
    "        if verbose: data.append(xii)\n",
    "       \n",
    "              \n",
    "    if verbose :\n",
    "        print('it took {} interations to arrive at the answer'.format(n_it))\n",
    "        print(\"these are the various data position\")\n",
    "        print(data)\n",
    "        print('final result is {}'.format(xii))\n",
    "        \n",
    "        \n",
    "    return xii\n",
    "\n",
    "newton_raphson(1,verbose = False)"
   ]
  },
  {
   "cell_type": "code",
   "execution_count": 6,
   "metadata": {},
   "outputs": [
    {
     "name": "stdout",
     "output_type": "stream",
     "text": [
      "it took 7 interations to arrive at the answer\n",
      "these are the various data position\n",
      "[-1, 2.5, 2.05, 2.000609756097561, 2.0000000929222947, 2.000000000000002, 2.0, 2.0]\n",
      "final result is 2.0\n",
      "8\n"
     ]
    },
    {
     "data": {
      "text/plain": [
       "2.0"
      ]
     },
     "execution_count": 6,
     "metadata": {},
     "output_type": "execute_result"
    }
   ],
   "source": [
    "newton_raphson(1,verbose = True)"
   ]
  },
  {
   "cell_type": "code",
   "execution_count": 4,
   "metadata": {},
   "outputs": [],
   "source": [
    "def differentiate(eqn):\n",
    "    return lambda x: (eqn(x+10**(-12))-eqn(x))/(10**(-12))"
   ]
  },
  {
   "cell_type": "code",
   "execution_count": null,
   "metadata": {},
   "outputs": [],
   "source": []
  },
  {
   "cell_type": "markdown",
   "metadata": {},
   "source": [
    "i have included a differntiation function to differntiate an eqn and return an eqn of the differntiated value \\\n",
    "e.g\n",
    "$$ f(x)= x^2-4  $$\n",
    "$$f^\\prime (x) = 2x$$\n",
    "\n",
    "when x =2  ; we have 4"
   ]
  },
  {
   "cell_type": "code",
   "execution_count": 5,
   "metadata": {},
   "outputs": [
    {
     "data": {
      "text/plain": [
       "4.000355602329364"
      ]
     },
     "execution_count": 5,
     "metadata": {},
     "output_type": "execute_result"
    }
   ],
   "source": [
    "differentiate(eqn)(2)"
   ]
  },
  {
   "cell_type": "code",
   "execution_count": null,
   "metadata": {},
   "outputs": [],
   "source": []
  },
  {
   "cell_type": "code",
   "execution_count": null,
   "metadata": {},
   "outputs": [],
   "source": []
  }
 ],
 "metadata": {
  "kernelspec": {
   "display_name": "Python 3",
   "language": "python",
   "name": "python3"
  },
  "language_info": {
   "codemirror_mode": {
    "name": "ipython",
    "version": 3
   },
   "file_extension": ".py",
   "mimetype": "text/x-python",
   "name": "python",
   "nbconvert_exporter": "python",
   "pygments_lexer": "ipython3",
   "version": "3.7.4"
  }
 },
 "nbformat": 4,
 "nbformat_minor": 2
}
