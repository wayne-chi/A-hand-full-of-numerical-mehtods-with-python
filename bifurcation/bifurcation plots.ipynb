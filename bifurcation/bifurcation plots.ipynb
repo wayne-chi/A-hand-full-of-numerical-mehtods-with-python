{
 "cells": [
  {
   "cell_type": "code",
   "execution_count": 45,
   "metadata": {},
   "outputs": [],
   "source": [
    "\n",
    "import matplotlib.pyplot as plt\n",
    "\n",
    "import math"
   ]
  },
  {
   "cell_type": "code",
   "execution_count": null,
   "metadata": {},
   "outputs": [],
   "source": []
  },
  {
   "cell_type": "code",
   "execution_count": 27,
   "metadata": {},
   "outputs": [],
   "source": [
    "def my_solve(a,init_guess= [0.1,3]):\n",
    "    total_ans =[]\n",
    "    ans = init_guess[0]\n",
    "    for i in range(15):\n",
    "        ans =(ans**2 *math.cos(ans)-a)/(math.sin(ans)+ans*math.cos(ans))\n",
    "    total_ans.append(round(ans,2))\n",
    "    ans = init_guess[1]\n",
    "    for i in range(15):\n",
    "        ans =(ans**2 *math.cos(ans)-a)/(math.sin(ans)+ans*math.cos(ans))\n",
    "    total_ans.append(round(ans,2))\n",
    "    return total_ans"
   ]
  },
  {
   "cell_type": "code",
   "execution_count": 44,
   "metadata": {},
   "outputs": [
    {
     "name": "stdout",
     "output_type": "stream",
     "text": [
      "[0.0, 3.14]\n"
     ]
    }
   ],
   "source": [
    "print(my_solve(0))"
   ]
  },
  {
   "cell_type": "code",
   "execution_count": 30,
   "metadata": {},
   "outputs": [
    {
     "name": "stdout",
     "output_type": "stream",
     "text": [
      "[-0.2, -0.2, -0.175, -0.175, -0.15, -0.15, -0.125, -0.125, -0.1, -0.1, -0.075, -0.075, -0.05, -0.05, -0.025, -0.025, 0.0, 0.0, 0.025, 0.025, 0.05, 0.05, 0.075, 0.075, 0.1, 0.1, 0.125, 0.125, 0.15, 0.15, 0.175, 0.175, 0.2, 0.2]\n",
      "[0.46, 3.08, 0.42, 3.08, 0.39, 3.09, 0.36, 3.1, 0.32, 3.11, 0.28, 3.12, 0.22, 3.13, 0.16, 3.13, 0.0, 3.14, 0.3, 3.15, 9.43, 3.16, -0.78, 3.17, -3.18, 3.17, 3.18, 3.18, -15.72, 3.19, 1187.52, 3.2, 12.55, 3.2]\n"
     ]
    }
   ],
   "source": [
    "## loop a values from-0.2 to 0.2 in steps of 0.025\n",
    "###\n",
    "n = int((0.2--0.2)/0.025)\n",
    "a_values = []\n",
    "sol_values =[]\n",
    "\n",
    "for i in range(n+1):\n",
    "    a = round(-0.2 +i*0.025,3)\n",
    "    sol = my_solve(a)\n",
    "    sol_values.extend(sol)\n",
    "    a_values.extend([a]*len(sol))\n",
    "print(a_values)\n",
    "print(sol_values)"
   ]
  },
  {
   "cell_type": "code",
   "execution_count": 40,
   "metadata": {},
   "outputs": [],
   "source": [
    "def clean_result(sol,a):\n",
    "    sol = sol.copy()\n",
    "    a = a.copy()\n",
    "    ele =[]\n",
    "    for i in range(len(sol)):\n",
    "        if abs(sol[i] ) > math.pi:\n",
    "            ele.append(i)\n",
    "    for i in range(len(ele)):\n",
    "        p = len(ele) - i-1\n",
    "        sol.pop(ele[p])\n",
    "        a.pop(ele[p])\n",
    "    return sol,a\n",
    "sol_values,a_values = clean_result(sol_values,a_values)"
   ]
  },
  {
   "cell_type": "code",
   "execution_count": 41,
   "metadata": {},
   "outputs": [
    {
     "name": "stdout",
     "output_type": "stream",
     "text": [
      "[0.46, 3.08, 0.42, 3.08, 0.39, 3.09, 0.36, 3.1, 0.32, 3.11, 0.28, 3.12, 0.22, 3.13, 0.16, 3.13, 0.0, 3.14, 0.3, -0.78]\n",
      "[-0.2, -0.2, -0.175, -0.175, -0.15, -0.15, -0.125, -0.125, -0.1, -0.1, -0.075, -0.075, -0.05, -0.05, -0.025, -0.025, 0.0, 0.0, 0.025, 0.075]\n"
     ]
    }
   ],
   "source": [
    "print(sol_values)\n",
    "print(a_values)"
   ]
  },
  {
   "cell_type": "code",
   "execution_count": 42,
   "metadata": {},
   "outputs": [
    {
     "data": {
      "text/plain": [
       "[<matplotlib.lines.Line2D at 0x1fe7274d8c8>]"
      ]
     },
     "execution_count": 42,
     "metadata": {},
     "output_type": "execute_result"
    },
    {
     "data": {
      "image/png": "[encoded data removed]",
      "text/plain": [
       "<Figure size 432x288 with 1 Axes>"
      ]
     },
     "metadata": {
      "needs_background": "light"
     },
     "output_type": "display_data"
    }
   ],
   "source": [
    "plt.plot(a_values,sol_values)"
   ]
  },
  {
   "cell_type": "code",
   "execution_count": 15,
   "metadata": {},
   "outputs": [
    {
     "name": "stdout",
     "output_type": "stream",
     "text": [
      "[]\n",
      "[]\n"
     ]
    }
   ],
   "source": [
    "print(a_values)\n",
    "print(sol_values)"
   ]
  },
  {
   "cell_type": "code",
   "execution_count": null,
   "metadata": {},
   "outputs": [],
   "source": []
  }
 ],
 "metadata": {
  "kernelspec": {
   "display_name": "Python 3",
   "language": "python",
   "name": "python3"
  },
  "language_info": {
   "codemirror_mode": {
    "name": "ipython",
    "version": 3
   },
   "file_extension": ".py",
   "mimetype": "text/x-python",
   "name": "python",
   "nbconvert_exporter": "python",
   "pygments_lexer": "ipython3",
   "version": "3.7.4"
  }
 },
 "nbformat": 4,
 "nbformat_minor": 2
}
